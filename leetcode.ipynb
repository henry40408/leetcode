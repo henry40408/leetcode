{
 "cells": [
  {
   "cell_type": "code",
   "execution_count": 65,
   "metadata": {
    "collapsed": false
   },
   "outputs": [
    {
     "name": "stdout",
     "output_type": "stream",
     "text": [
      "PASSED\n"
     ]
    }
   ],
   "source": [
    "# https://leetcode.com/problems/two-sum/\n",
    "\n",
    "# --- solution ---\n",
    "class Solution(object):\n",
    "    def twoSum(self, nums, target):\n",
    "        \"\"\"\n",
    "        :type nums: List[int]\n",
    "        :type target: int\n",
    "        :rtype: List[int]\n",
    "        \"\"\"\n",
    "\n",
    "        # matrix :: dict[Integer]Integer\n",
    "        matrix = dict()\n",
    "\n",
    "        for index, number in enumerate(nums):\n",
    "            # 1. number is greater than target, drop it\n",
    "            # if number > target:\n",
    "            #    continue\n",
    "            # FIX: edge case, negative numbers exist\n",
    "\n",
    "            # 2. find if (target - number) exists in matrix, if true returns result\n",
    "            delta = target - number\n",
    "            if delta in matrix:\n",
    "                return [matrix[delta], index]\n",
    "            else:\n",
    "                # 3. number is less than target, and in matrix, insert or update the index\n",
    "                matrix[number] = index\n",
    "        return None\n",
    "# --- end ---\n",
    "solution = Solution()\n",
    "payloads = [\n",
    "    dict(nums=[2,7,11,15], target=9, expected=[0,1]),\n",
    "    dict(nums=[0,4,3,0], target=0, expected=[0,3]),\n",
    "    dict(nums=[-3,4,3,90], target=0, expected=[0,2]),\n",
    "]\n",
    "\n",
    "for _, payload in enumerate(payloads):\n",
    "    sol = solution.twoSum(payload['nums'], payload['target'])\n",
    "    assert sol == payload['expected'], \"nums: {2}, target: {3}, expected: {0}, got: {1}\".format(payload['expected'], sol, nums, target)\n",
    "\n",
    "print(\"PASSED\")"
   ]
  },
  {
   "cell_type": "code",
   "execution_count": 67,
   "metadata": {
    "collapsed": false
   },
   "outputs": [
    {
     "name": "stdout",
     "output_type": "stream",
     "text": [
      "PASSED\n"
     ]
    }
   ],
   "source": [
    "# https://leetcode.com/problems/add-two-numbers/\n",
    "\n",
    "# --- solution ---\n",
    "# Definition for singly-linked list.\n",
    "class ListNode(object):\n",
    "    def __init__(self, x):\n",
    "        self.val = x\n",
    "        self.next = None\n",
    "        \n",
    "class Solution(object):\n",
    "    def none_to_empty_node(self, node):\n",
    "        if node:\n",
    "            return node\n",
    "        else:\n",
    "            return ListNode(0)\n",
    "\n",
    "    def addTwoNumbers(self, l1, l2, carry=False):\n",
    "        \"\"\"\n",
    "        :type l1: ListNode\n",
    "        :type l2: ListNode\n",
    "        :rtype: ListNode\n",
    "        \"\"\"\n",
    "        result = l1.val + l2.val\n",
    "\n",
    "        if carry:\n",
    "            result += 1\n",
    "\n",
    "        if result >= 10:\n",
    "            shouldCarry = True\n",
    "            result %= 10\n",
    "        else:\n",
    "            shouldCarry = False\n",
    "\n",
    "        rNode = ListNode(result)\n",
    "        if l1.next or l2.next:\n",
    "            next1 = self.none_to_empty_node(l1.next)\n",
    "            next2 = self.none_to_empty_node(l2.next)\n",
    "            rNode.next = self.addTwoNumbers(next1, next2, shouldCarry)\n",
    "        elif shouldCarry:\n",
    "            rNode.next = ListNode(1)\n",
    "        return rNode\n",
    "# --- end ---\n",
    "\n",
    "def list_to_nodes(l):\n",
    "    if len(l) == 1:\n",
    "        return ListNode(l[0])\n",
    "    else:\n",
    "        node = ListNode(l[0])\n",
    "        node.next = list_to_nodes(l[1:])\n",
    "        return node\n",
    "\n",
    "def print_helper(node):\n",
    "    assert isinstance(node, ListNode)\n",
    "    if node.next:\n",
    "        return \"{0},{1}\".format(node.val, print_nodes(node.next))\n",
    "    else:\n",
    "        return \"{0}\".format(node.val)\n",
    "\n",
    "def compare_nodes(left, right):\n",
    "    assert isinstance(left, ListNode)\n",
    "    assert isinstance(right, ListNode)\n",
    "    if left.next and right.next:\n",
    "        return compare_nodes(left.next, right.next)\n",
    "    else:\n",
    "        return left.val == right.val\n",
    "\n",
    "assert compare_nodes(list_to_nodes([2,4,6]), list_to_nodes([2,4,6]))\n",
    "assert not compare_nodes(list_to_nodes([2,4,6]), list_to_nodes([2,4,7]))\n",
    "\n",
    "solution = Solution()\n",
    "payloads = [\n",
    "    dict(first=[2,4,3], second=[5,6,4], expected=[7,0,8]),\n",
    "    dict(first=[5], second=[5], expected=[0, 1]),\n",
    "    dict(first=[1,8], second=[0], expected=[1]),\n",
    "]\n",
    "for _, payload in enumerate(payloads):\n",
    "    first = list_to_nodes(payload['first'])\n",
    "    second = list_to_nodes(payload['second'])\n",
    "    assert first\n",
    "    assert second\n",
    "\n",
    "    expected = list_to_nodes(payload['expected'])\n",
    "    assert expected\n",
    "\n",
    "    sol = solution.addTwoNumbers(first, second)\n",
    "    assert compare_nodes(sol, expected), \"expected: {0}, got: {1}, first: {2}, second: {3}\".format(payload['expected'], print_helper(sol), payload['first'], payload['second'])\n",
    "\n",
    "print(\"PASSED\")"
   ]
  },
  {
   "cell_type": "code",
   "execution_count": null,
   "metadata": {
    "collapsed": true
   },
   "outputs": [],
   "source": []
  }
 ],
 "metadata": {
  "kernelspec": {
   "display_name": "Python 3",
   "language": "python",
   "name": "python3"
  },
  "language_info": {
   "codemirror_mode": {
    "name": "ipython",
    "version": 3
   },
   "file_extension": ".py",
   "mimetype": "text/x-python",
   "name": "python",
   "nbconvert_exporter": "python",
   "pygments_lexer": "ipython3",
   "version": "3.5.2"
  }
 },
 "nbformat": 4,
 "nbformat_minor": 1
}
